{
 "cells": [
  {
   "cell_type": "code",
   "execution_count": 1,
   "id": "2d5d00be",
   "metadata": {
    "_cell_guid": "b1076dfc-b9ad-4769-8c92-a6c4dae69d19",
    "_uuid": "8f2839f25d086af736a60e9eeb907d3b93b6e0e5",
    "execution": {
     "iopub.execute_input": "2024-12-18T10:40:02.348332Z",
     "iopub.status.busy": "2024-12-18T10:40:02.347895Z",
     "iopub.status.idle": "2024-12-18T10:40:05.476701Z",
     "shell.execute_reply": "2024-12-18T10:40:05.475654Z"
    },
    "papermill": {
     "duration": 3.138556,
     "end_time": "2024-12-18T10:40:05.479140",
     "exception": false,
     "start_time": "2024-12-18T10:40:02.340584",
     "status": "completed"
    },
    "tags": []
   },
   "outputs": [],
   "source": [
    "import numpy as np\n",
    "import pandas as pd\n",
    "import matplotlib.pyplot as plt\n",
    "from sklearn.model_selection import train_test_split\n",
    "from sklearn.preprocessing import StandardScaler\n",
    "from sklearn.linear_model import LinearRegression, LogisticRegression\n",
    "from sklearn.neighbors import KNeighborsRegressor, KNeighborsClassifier\n",
    "from sklearn.tree import DecisionTreeRegressor, DecisionTreeClassifier\n",
    "from sklearn.svm import SVR, SVC\n",
    "from sklearn.metrics import (mean_squared_error, mean_absolute_error, r2_score, \n",
    "                             accuracy_score, classification_report, confusion_matrix)"
   ]
  },
  {
   "cell_type": "code",
   "execution_count": 2,
   "id": "003849da",
   "metadata": {
    "execution": {
     "iopub.execute_input": "2024-12-18T10:40:05.492152Z",
     "iopub.status.busy": "2024-12-18T10:40:05.490924Z",
     "iopub.status.idle": "2024-12-18T10:40:05.630055Z",
     "shell.execute_reply": "2024-12-18T10:40:05.628957Z"
    },
    "papermill": {
     "duration": 0.148115,
     "end_time": "2024-12-18T10:40:05.632625",
     "exception": false,
     "start_time": "2024-12-18T10:40:05.484510",
     "status": "completed"
    },
    "tags": []
   },
   "outputs": [],
   "source": [
    "from sklearn.datasets import make_regression, make_classification"
   ]
  },
  {
   "cell_type": "code",
   "execution_count": 3,
   "id": "589af80c",
   "metadata": {
    "execution": {
     "iopub.execute_input": "2024-12-18T10:40:05.644897Z",
     "iopub.status.busy": "2024-12-18T10:40:05.644097Z",
     "iopub.status.idle": "2024-12-18T10:40:05.650637Z",
     "shell.execute_reply": "2024-12-18T10:40:05.649386Z"
    },
    "papermill": {
     "duration": 0.014939,
     "end_time": "2024-12-18T10:40:05.652788",
     "exception": false,
     "start_time": "2024-12-18T10:40:05.637849",
     "status": "completed"
    },
    "tags": []
   },
   "outputs": [],
   "source": [
    "X_reg, y_reg = make_regression(n_samples=200, n_features=5, noise=0.1, random_state=42)"
   ]
  },
  {
   "cell_type": "code",
   "execution_count": 4,
   "id": "915de1e6",
   "metadata": {
    "execution": {
     "iopub.execute_input": "2024-12-18T10:40:05.665624Z",
     "iopub.status.busy": "2024-12-18T10:40:05.665215Z",
     "iopub.status.idle": "2024-12-18T10:40:05.678802Z",
     "shell.execute_reply": "2024-12-18T10:40:05.677633Z"
    },
    "papermill": {
     "duration": 0.02232,
     "end_time": "2024-12-18T10:40:05.681428",
     "exception": false,
     "start_time": "2024-12-18T10:40:05.659108",
     "status": "completed"
    },
    "tags": []
   },
   "outputs": [],
   "source": [
    "X_clf, y_clf = make_classification(n_samples=200, n_features=5, n_classes=2, random_state=42)"
   ]
  },
  {
   "cell_type": "code",
   "execution_count": 5,
   "id": "014b7bdf",
   "metadata": {
    "execution": {
     "iopub.execute_input": "2024-12-18T10:40:05.692924Z",
     "iopub.status.busy": "2024-12-18T10:40:05.692532Z",
     "iopub.status.idle": "2024-12-18T10:40:05.698457Z",
     "shell.execute_reply": "2024-12-18T10:40:05.697605Z"
    },
    "papermill": {
     "duration": 0.014015,
     "end_time": "2024-12-18T10:40:05.700476",
     "exception": false,
     "start_time": "2024-12-18T10:40:05.686461",
     "status": "completed"
    },
    "tags": []
   },
   "outputs": [],
   "source": [
    "X_reg_train, X_reg_test, y_reg_train, y_reg_test = train_test_split(\n",
    "    X_reg, y_reg, test_size=0.2, random_state=42\n",
    ")"
   ]
  },
  {
   "cell_type": "code",
   "execution_count": 6,
   "id": "85793fa7",
   "metadata": {
    "execution": {
     "iopub.execute_input": "2024-12-18T10:40:05.712131Z",
     "iopub.status.busy": "2024-12-18T10:40:05.711348Z",
     "iopub.status.idle": "2024-12-18T10:40:05.719469Z",
     "shell.execute_reply": "2024-12-18T10:40:05.718201Z"
    },
    "papermill": {
     "duration": 0.016191,
     "end_time": "2024-12-18T10:40:05.721544",
     "exception": false,
     "start_time": "2024-12-18T10:40:05.705353",
     "status": "completed"
    },
    "tags": []
   },
   "outputs": [],
   "source": [
    "scaler_reg = StandardScaler()\n",
    "X_reg_train_scaled = scaler_reg.fit_transform(X_reg_train)\n",
    "X_reg_test_scaled = scaler_reg.transform(X_reg_test)"
   ]
  },
  {
   "cell_type": "code",
   "execution_count": 7,
   "id": "d76c14c3",
   "metadata": {
    "execution": {
     "iopub.execute_input": "2024-12-18T10:40:05.732956Z",
     "iopub.status.busy": "2024-12-18T10:40:05.732589Z",
     "iopub.status.idle": "2024-12-18T10:40:05.765369Z",
     "shell.execute_reply": "2024-12-18T10:40:05.764272Z"
    },
    "papermill": {
     "duration": 0.041401,
     "end_time": "2024-12-18T10:40:05.767844",
     "exception": false,
     "start_time": "2024-12-18T10:40:05.726443",
     "status": "completed"
    },
    "tags": []
   },
   "outputs": [
    {
     "data": {
      "text/html": [
       "<style>#sk-container-id-1 {color: black;background-color: white;}#sk-container-id-1 pre{padding: 0;}#sk-container-id-1 div.sk-toggleable {background-color: white;}#sk-container-id-1 label.sk-toggleable__label {cursor: pointer;display: block;width: 100%;margin-bottom: 0;padding: 0.3em;box-sizing: border-box;text-align: center;}#sk-container-id-1 label.sk-toggleable__label-arrow:before {content: \"▸\";float: left;margin-right: 0.25em;color: #696969;}#sk-container-id-1 label.sk-toggleable__label-arrow:hover:before {color: black;}#sk-container-id-1 div.sk-estimator:hover label.sk-toggleable__label-arrow:before {color: black;}#sk-container-id-1 div.sk-toggleable__content {max-height: 0;max-width: 0;overflow: hidden;text-align: left;background-color: #f0f8ff;}#sk-container-id-1 div.sk-toggleable__content pre {margin: 0.2em;color: black;border-radius: 0.25em;background-color: #f0f8ff;}#sk-container-id-1 input.sk-toggleable__control:checked~div.sk-toggleable__content {max-height: 200px;max-width: 100%;overflow: auto;}#sk-container-id-1 input.sk-toggleable__control:checked~label.sk-toggleable__label-arrow:before {content: \"▾\";}#sk-container-id-1 div.sk-estimator input.sk-toggleable__control:checked~label.sk-toggleable__label {background-color: #d4ebff;}#sk-container-id-1 div.sk-label input.sk-toggleable__control:checked~label.sk-toggleable__label {background-color: #d4ebff;}#sk-container-id-1 input.sk-hidden--visually {border: 0;clip: rect(1px 1px 1px 1px);clip: rect(1px, 1px, 1px, 1px);height: 1px;margin: -1px;overflow: hidden;padding: 0;position: absolute;width: 1px;}#sk-container-id-1 div.sk-estimator {font-family: monospace;background-color: #f0f8ff;border: 1px dotted black;border-radius: 0.25em;box-sizing: border-box;margin-bottom: 0.5em;}#sk-container-id-1 div.sk-estimator:hover {background-color: #d4ebff;}#sk-container-id-1 div.sk-parallel-item::after {content: \"\";width: 100%;border-bottom: 1px solid gray;flex-grow: 1;}#sk-container-id-1 div.sk-label:hover label.sk-toggleable__label {background-color: #d4ebff;}#sk-container-id-1 div.sk-serial::before {content: \"\";position: absolute;border-left: 1px solid gray;box-sizing: border-box;top: 0;bottom: 0;left: 50%;z-index: 0;}#sk-container-id-1 div.sk-serial {display: flex;flex-direction: column;align-items: center;background-color: white;padding-right: 0.2em;padding-left: 0.2em;position: relative;}#sk-container-id-1 div.sk-item {position: relative;z-index: 1;}#sk-container-id-1 div.sk-parallel {display: flex;align-items: stretch;justify-content: center;background-color: white;position: relative;}#sk-container-id-1 div.sk-item::before, #sk-container-id-1 div.sk-parallel-item::before {content: \"\";position: absolute;border-left: 1px solid gray;box-sizing: border-box;top: 0;bottom: 0;left: 50%;z-index: -1;}#sk-container-id-1 div.sk-parallel-item {display: flex;flex-direction: column;z-index: 1;position: relative;background-color: white;}#sk-container-id-1 div.sk-parallel-item:first-child::after {align-self: flex-end;width: 50%;}#sk-container-id-1 div.sk-parallel-item:last-child::after {align-self: flex-start;width: 50%;}#sk-container-id-1 div.sk-parallel-item:only-child::after {width: 0;}#sk-container-id-1 div.sk-dashed-wrapped {border: 1px dashed gray;margin: 0 0.4em 0.5em 0.4em;box-sizing: border-box;padding-bottom: 0.4em;background-color: white;}#sk-container-id-1 div.sk-label label {font-family: monospace;font-weight: bold;display: inline-block;line-height: 1.2em;}#sk-container-id-1 div.sk-label-container {text-align: center;}#sk-container-id-1 div.sk-container {/* jupyter's `normalize.less` sets `[hidden] { display: none; }` but bootstrap.min.css set `[hidden] { display: none !important; }` so we also need the `!important` here to be able to override the default hidden behavior on the sphinx rendered scikit-learn.org. See: https://github.com/scikit-learn/scikit-learn/issues/21755 */display: inline-block !important;position: relative;}#sk-container-id-1 div.sk-text-repr-fallback {display: none;}</style><div id=\"sk-container-id-1\" class=\"sk-top-container\"><div class=\"sk-text-repr-fallback\"><pre>LinearRegression()</pre><b>In a Jupyter environment, please rerun this cell to show the HTML representation or trust the notebook. <br />On GitHub, the HTML representation is unable to render, please try loading this page with nbviewer.org.</b></div><div class=\"sk-container\" hidden><div class=\"sk-item\"><div class=\"sk-estimator sk-toggleable\"><input class=\"sk-toggleable__control sk-hidden--visually\" id=\"sk-estimator-id-1\" type=\"checkbox\" checked><label for=\"sk-estimator-id-1\" class=\"sk-toggleable__label sk-toggleable__label-arrow\">LinearRegression</label><div class=\"sk-toggleable__content\"><pre>LinearRegression()</pre></div></div></div></div></div>"
      ],
      "text/plain": [
       "LinearRegression()"
      ]
     },
     "execution_count": 7,
     "metadata": {},
     "output_type": "execute_result"
    }
   ],
   "source": [
    "# Linear Regression Model\n",
    "lr_model = LinearRegression()\n",
    "lr_model.fit(X_reg_train_scaled, y_reg_train)"
   ]
  },
  {
   "cell_type": "code",
   "execution_count": 8,
   "id": "155c252c",
   "metadata": {
    "execution": {
     "iopub.execute_input": "2024-12-18T10:40:05.779928Z",
     "iopub.status.busy": "2024-12-18T10:40:05.779503Z",
     "iopub.status.idle": "2024-12-18T10:40:05.784615Z",
     "shell.execute_reply": "2024-12-18T10:40:05.783567Z"
    },
    "papermill": {
     "duration": 0.013686,
     "end_time": "2024-12-18T10:40:05.786887",
     "exception": false,
     "start_time": "2024-12-18T10:40:05.773201",
     "status": "completed"
    },
    "tags": []
   },
   "outputs": [],
   "source": [
    "# Predictions\n",
    "lr_predictions = lr_model.predict(X_reg_test_scaled)"
   ]
  },
  {
   "cell_type": "code",
   "execution_count": 9,
   "id": "46956c38",
   "metadata": {
    "execution": {
     "iopub.execute_input": "2024-12-18T10:40:05.798744Z",
     "iopub.status.busy": "2024-12-18T10:40:05.798347Z",
     "iopub.status.idle": "2024-12-18T10:40:05.805179Z",
     "shell.execute_reply": "2024-12-18T10:40:05.804167Z"
    },
    "papermill": {
     "duration": 0.015458,
     "end_time": "2024-12-18T10:40:05.807500",
     "exception": false,
     "start_time": "2024-12-18T10:40:05.792042",
     "status": "completed"
    },
    "tags": []
   },
   "outputs": [],
   "source": [
    "# Evaluation Metrics for Regression\n",
    "lr_mse = mean_squared_error(y_reg_test, lr_predictions)\n",
    "lr_mae = mean_absolute_error(y_reg_test, lr_predictions)\n",
    "lr_r2 = r2_score(y_reg_test, lr_predictions)"
   ]
  },
  {
   "cell_type": "code",
   "execution_count": 10,
   "id": "8df2c339",
   "metadata": {
    "execution": {
     "iopub.execute_input": "2024-12-18T10:40:05.819624Z",
     "iopub.status.busy": "2024-12-18T10:40:05.819164Z",
     "iopub.status.idle": "2024-12-18T10:40:05.837801Z",
     "shell.execute_reply": "2024-12-18T10:40:05.836526Z"
    },
    "papermill": {
     "duration": 0.027703,
     "end_time": "2024-12-18T10:40:05.840347",
     "exception": false,
     "start_time": "2024-12-18T10:40:05.812644",
     "status": "completed"
    },
    "tags": []
   },
   "outputs": [
    {
     "name": "stdout",
     "output_type": "stream",
     "text": [
      "Regression Evaluation Report:\n",
      "               Model  Mean Squared Error  Mean Absolute Error  R-squared\n",
      "0  Linear Regression            0.008506             0.077383   0.999999\n"
     ]
    }
   ],
   "source": [
    "regression_report = pd.DataFrame({\n",
    "    'Model': ['Linear Regression'],\n",
    "    'Mean Squared Error': [lr_mse],\n",
    "    'Mean Absolute Error': [lr_mae],\n",
    "    'R-squared': [lr_r2]\n",
    "})\n",
    "print(\"Regression Evaluation Report:\")\n",
    "print(regression_report)"
   ]
  },
  {
   "cell_type": "code",
   "execution_count": 11,
   "id": "fc123e77",
   "metadata": {
    "execution": {
     "iopub.execute_input": "2024-12-18T10:40:05.852992Z",
     "iopub.status.busy": "2024-12-18T10:40:05.852088Z",
     "iopub.status.idle": "2024-12-18T10:40:05.860713Z",
     "shell.execute_reply": "2024-12-18T10:40:05.859676Z"
    },
    "papermill": {
     "duration": 0.017299,
     "end_time": "2024-12-18T10:40:05.862934",
     "exception": false,
     "start_time": "2024-12-18T10:40:05.845635",
     "status": "completed"
    },
    "tags": []
   },
   "outputs": [],
   "source": [
    "# KNN Regression\n",
    "knn_reg = KNeighborsRegressor(n_neighbors=5)\n",
    "knn_reg.fit(X_reg_train_scaled, y_reg_train)\n",
    "knn_predictions = knn_reg.predict(X_reg_test_scaled)"
   ]
  },
  {
   "cell_type": "code",
   "execution_count": 12,
   "id": "f099d111",
   "metadata": {
    "execution": {
     "iopub.execute_input": "2024-12-18T10:40:05.875367Z",
     "iopub.status.busy": "2024-12-18T10:40:05.874913Z",
     "iopub.status.idle": "2024-12-18T10:40:05.881579Z",
     "shell.execute_reply": "2024-12-18T10:40:05.880334Z"
    },
    "papermill": {
     "duration": 0.015593,
     "end_time": "2024-12-18T10:40:05.883804",
     "exception": false,
     "start_time": "2024-12-18T10:40:05.868211",
     "status": "completed"
    },
    "tags": []
   },
   "outputs": [],
   "source": [
    "knn_mse = mean_squared_error(y_reg_test, knn_predictions)\n",
    "knn_mae = mean_absolute_error(y_reg_test, knn_predictions)\n",
    "knn_r2 = r2_score(y_reg_test, knn_predictions)"
   ]
  },
  {
   "cell_type": "code",
   "execution_count": 13,
   "id": "8ca305e7",
   "metadata": {
    "execution": {
     "iopub.execute_input": "2024-12-18T10:40:05.896320Z",
     "iopub.status.busy": "2024-12-18T10:40:05.895326Z",
     "iopub.status.idle": "2024-12-18T10:40:05.905623Z",
     "shell.execute_reply": "2024-12-18T10:40:05.904445Z"
    },
    "papermill": {
     "duration": 0.018865,
     "end_time": "2024-12-18T10:40:05.907851",
     "exception": false,
     "start_time": "2024-12-18T10:40:05.888986",
     "status": "completed"
    },
    "tags": []
   },
   "outputs": [
    {
     "name": "stdout",
     "output_type": "stream",
     "text": [
      "\n",
      "Updated Regression Evaluation Report:\n",
      "               Model  Mean Squared Error  Mean Absolute Error  R-squared\n",
      "0  Linear Regression            0.008506             0.077383   0.999999\n",
      "0     KNN Regression         1308.201953            28.884528   0.850500\n"
     ]
    }
   ],
   "source": [
    "regression_report = pd.concat([\n",
    "    regression_report, \n",
    "    pd.DataFrame({\n",
    "        'Model': ['KNN Regression'],\n",
    "        'Mean Squared Error': [knn_mse],\n",
    "        'Mean Absolute Error': [knn_mae],\n",
    "        'R-squared': [knn_r2]\n",
    "    })\n",
    "])\n",
    "print(\"\\nUpdated Regression Evaluation Report:\")\n",
    "print(regression_report)"
   ]
  },
  {
   "cell_type": "code",
   "execution_count": 14,
   "id": "e71213bd",
   "metadata": {
    "execution": {
     "iopub.execute_input": "2024-12-18T10:40:05.920228Z",
     "iopub.status.busy": "2024-12-18T10:40:05.919828Z",
     "iopub.status.idle": "2024-12-18T10:40:05.928763Z",
     "shell.execute_reply": "2024-12-18T10:40:05.927742Z"
    },
    "papermill": {
     "duration": 0.017682,
     "end_time": "2024-12-18T10:40:05.930897",
     "exception": false,
     "start_time": "2024-12-18T10:40:05.913215",
     "status": "completed"
    },
    "tags": []
   },
   "outputs": [],
   "source": [
    "# Decision Tree Regression\n",
    "dt_reg = DecisionTreeRegressor(random_state=42)\n",
    "dt_reg.fit(X_reg_train_scaled, y_reg_train)\n",
    "dt_predictions = dt_reg.predict(X_reg_test_scaled)"
   ]
  },
  {
   "cell_type": "code",
   "execution_count": 15,
   "id": "3f5a9a7b",
   "metadata": {
    "execution": {
     "iopub.execute_input": "2024-12-18T10:40:05.943053Z",
     "iopub.status.busy": "2024-12-18T10:40:05.942640Z",
     "iopub.status.idle": "2024-12-18T10:40:05.949205Z",
     "shell.execute_reply": "2024-12-18T10:40:05.948139Z"
    },
    "papermill": {
     "duration": 0.015282,
     "end_time": "2024-12-18T10:40:05.951507",
     "exception": false,
     "start_time": "2024-12-18T10:40:05.936225",
     "status": "completed"
    },
    "tags": []
   },
   "outputs": [],
   "source": [
    "dt_mse = mean_squared_error(y_reg_test, dt_predictions)\n",
    "dt_mae = mean_absolute_error(y_reg_test, dt_predictions)\n",
    "dt_r2 = r2_score(y_reg_test, dt_predictions)"
   ]
  },
  {
   "cell_type": "code",
   "execution_count": 16,
   "id": "ef41d9e9",
   "metadata": {
    "execution": {
     "iopub.execute_input": "2024-12-18T10:40:05.964640Z",
     "iopub.status.busy": "2024-12-18T10:40:05.963286Z",
     "iopub.status.idle": "2024-12-18T10:40:05.973446Z",
     "shell.execute_reply": "2024-12-18T10:40:05.972328Z"
    },
    "papermill": {
     "duration": 0.018647,
     "end_time": "2024-12-18T10:40:05.975583",
     "exception": false,
     "start_time": "2024-12-18T10:40:05.956936",
     "status": "completed"
    },
    "tags": []
   },
   "outputs": [
    {
     "name": "stdout",
     "output_type": "stream",
     "text": [
      "\n",
      "Final Regression Evaluation Report:\n",
      "                      Model  Mean Squared Error  Mean Absolute Error  \\\n",
      "0         Linear Regression            0.008506             0.077383   \n",
      "0            KNN Regression         1308.201953            28.884528   \n",
      "0  Decision Tree Regression         1328.427285            30.855694   \n",
      "\n",
      "   R-squared  \n",
      "0   0.999999  \n",
      "0   0.850500  \n",
      "0   0.848189  \n"
     ]
    }
   ],
   "source": [
    "regression_report = pd.concat([\n",
    "    regression_report, \n",
    "    pd.DataFrame({\n",
    "        'Model': ['Decision Tree Regression'],\n",
    "        'Mean Squared Error': [dt_mse],\n",
    "        'Mean Absolute Error': [dt_mae],\n",
    "        'R-squared': [dt_r2]\n",
    "    })\n",
    "])\n",
    "print(\"\\nFinal Regression Evaluation Report:\")\n",
    "print(regression_report)"
   ]
  },
  {
   "cell_type": "code",
   "execution_count": 17,
   "id": "914794b0",
   "metadata": {
    "execution": {
     "iopub.execute_input": "2024-12-18T10:40:05.987902Z",
     "iopub.status.busy": "2024-12-18T10:40:05.987510Z",
     "iopub.status.idle": "2024-12-18T10:40:05.995678Z",
     "shell.execute_reply": "2024-12-18T10:40:05.994690Z"
    },
    "papermill": {
     "duration": 0.017068,
     "end_time": "2024-12-18T10:40:05.998063",
     "exception": false,
     "start_time": "2024-12-18T10:40:05.980995",
     "status": "completed"
    },
    "tags": []
   },
   "outputs": [],
   "source": [
    "# Splitting the dataset for classification\n",
    "X_clf_train, X_clf_test, y_clf_train, y_clf_test = train_test_split(\n",
    "    X_clf, y_clf, test_size=0.2, random_state=42\n",
    ")\n",
    "\n",
    "# Standardize the features\n",
    "scaler_clf = StandardScaler()\n",
    "X_clf_train_scaled = scaler_clf.fit_transform(X_clf_train)\n",
    "X_clf_test_scaled = scaler_clf.transform(X_clf_test)"
   ]
  },
  {
   "cell_type": "code",
   "execution_count": 18,
   "id": "ee575b38",
   "metadata": {
    "execution": {
     "iopub.execute_input": "2024-12-18T10:40:06.011439Z",
     "iopub.status.busy": "2024-12-18T10:40:06.010298Z",
     "iopub.status.idle": "2024-12-18T10:40:06.033071Z",
     "shell.execute_reply": "2024-12-18T10:40:06.032019Z"
    },
    "papermill": {
     "duration": 0.031821,
     "end_time": "2024-12-18T10:40:06.035585",
     "exception": false,
     "start_time": "2024-12-18T10:40:06.003764",
     "status": "completed"
    },
    "tags": []
   },
   "outputs": [],
   "source": [
    "# Logistic Regression\n",
    "log_reg = LogisticRegression(random_state=42)\n",
    "log_reg.fit(X_clf_train_scaled, y_clf_train)\n",
    "log_predictions = log_reg.predict(X_clf_test_scaled)\n",
    "\n",
    "log_accuracy = accuracy_score(y_clf_test, log_predictions)\n",
    "log_report = classification_report(y_clf_test, log_predictions)\n",
    "log_confusion = confusion_matrix(y_clf_test, log_predictions)"
   ]
  },
  {
   "cell_type": "code",
   "execution_count": 19,
   "id": "b99c87e8",
   "metadata": {
    "execution": {
     "iopub.execute_input": "2024-12-18T10:40:06.048131Z",
     "iopub.status.busy": "2024-12-18T10:40:06.047710Z",
     "iopub.status.idle": "2024-12-18T10:40:06.065983Z",
     "shell.execute_reply": "2024-12-18T10:40:06.064675Z"
    },
    "papermill": {
     "duration": 0.027413,
     "end_time": "2024-12-18T10:40:06.068461",
     "exception": false,
     "start_time": "2024-12-18T10:40:06.041048",
     "status": "completed"
    },
    "tags": []
   },
   "outputs": [],
   "source": [
    "# KNN Classification\n",
    "knn_clf = KNeighborsClassifier(n_neighbors=5)\n",
    "knn_clf.fit(X_clf_train_scaled, y_clf_train)\n",
    "knn_predictions = knn_clf.predict(X_clf_test_scaled)\n",
    "\n",
    "knn_accuracy = accuracy_score(y_clf_test, knn_predictions)\n",
    "knn_report = classification_report(y_clf_test, knn_predictions)\n",
    "knn_confusion = confusion_matrix(y_clf_test, knn_predictions)"
   ]
  },
  {
   "cell_type": "code",
   "execution_count": 20,
   "id": "14f62865",
   "metadata": {
    "execution": {
     "iopub.execute_input": "2024-12-18T10:40:06.081196Z",
     "iopub.status.busy": "2024-12-18T10:40:06.080804Z",
     "iopub.status.idle": "2024-12-18T10:40:06.097450Z",
     "shell.execute_reply": "2024-12-18T10:40:06.096217Z"
    },
    "papermill": {
     "duration": 0.026236,
     "end_time": "2024-12-18T10:40:06.100051",
     "exception": false,
     "start_time": "2024-12-18T10:40:06.073815",
     "status": "completed"
    },
    "tags": []
   },
   "outputs": [],
   "source": [
    "# Decision Tree Classification\n",
    "dt_clf = DecisionTreeClassifier(random_state=42)\n",
    "dt_clf.fit(X_clf_train_scaled, y_clf_train)\n",
    "dt_predictions = dt_clf.predict(X_clf_test_scaled)\n",
    "\n",
    "dt_accuracy = accuracy_score(y_clf_test, dt_predictions)\n",
    "dt_report = classification_report(y_clf_test, dt_predictions)\n",
    "dt_confusion = confusion_matrix(y_clf_test, dt_predictions)"
   ]
  },
  {
   "cell_type": "code",
   "execution_count": 21,
   "id": "825adf9b",
   "metadata": {
    "execution": {
     "iopub.execute_input": "2024-12-18T10:40:06.113102Z",
     "iopub.status.busy": "2024-12-18T10:40:06.112381Z",
     "iopub.status.idle": "2024-12-18T10:40:06.128224Z",
     "shell.execute_reply": "2024-12-18T10:40:06.127272Z"
    },
    "papermill": {
     "duration": 0.025541,
     "end_time": "2024-12-18T10:40:06.131213",
     "exception": false,
     "start_time": "2024-12-18T10:40:06.105672",
     "status": "completed"
    },
    "tags": []
   },
   "outputs": [],
   "source": [
    "# SVM Classification\n",
    "svm_clf = SVC(random_state=42)\n",
    "svm_clf.fit(X_clf_train_scaled, y_clf_train)\n",
    "svm_predictions = svm_clf.predict(X_clf_test_scaled)\n",
    "\n",
    "svm_accuracy = accuracy_score(y_clf_test, svm_predictions)\n",
    "svm_report = classification_report(y_clf_test, svm_predictions)\n",
    "svm_confusion = confusion_matrix(y_clf_test, svm_predictions)"
   ]
  },
  {
   "cell_type": "code",
   "execution_count": 22,
   "id": "b4dcc3ae",
   "metadata": {
    "execution": {
     "iopub.execute_input": "2024-12-18T10:40:06.143892Z",
     "iopub.status.busy": "2024-12-18T10:40:06.143475Z",
     "iopub.status.idle": "2024-12-18T10:40:06.152158Z",
     "shell.execute_reply": "2024-12-18T10:40:06.151026Z"
    },
    "papermill": {
     "duration": 0.017226,
     "end_time": "2024-12-18T10:40:06.154227",
     "exception": false,
     "start_time": "2024-12-18T10:40:06.137001",
     "status": "completed"
    },
    "tags": []
   },
   "outputs": [
    {
     "name": "stdout",
     "output_type": "stream",
     "text": [
      "\n",
      "Classification Evaluation Report:\n",
      "                 Model  Accuracy\n",
      "0  Logistic Regression     0.875\n",
      "1                  KNN     0.800\n",
      "2        Decision Tree     0.775\n",
      "3                  SVM     0.850\n"
     ]
    }
   ],
   "source": [
    "classification_report_table = pd.DataFrame({\n",
    "    'Model': ['Logistic Regression', 'KNN', 'Decision Tree', 'SVM'],\n",
    "    'Accuracy': [log_accuracy, knn_accuracy, dt_accuracy, svm_accuracy]\n",
    "})\n",
    "print(\"\\nClassification Evaluation Report:\")\n",
    "print(classification_report_table)"
   ]
  },
  {
   "cell_type": "code",
   "execution_count": 23,
   "id": "64a5577a",
   "metadata": {
    "execution": {
     "iopub.execute_input": "2024-12-18T10:40:06.166585Z",
     "iopub.status.busy": "2024-12-18T10:40:06.166158Z",
     "iopub.status.idle": "2024-12-18T10:40:06.759959Z",
     "shell.execute_reply": "2024-12-18T10:40:06.758749Z"
    },
    "papermill": {
     "duration": 0.602467,
     "end_time": "2024-12-18T10:40:06.762063",
     "exception": false,
     "start_time": "2024-12-18T10:40:06.159596",
     "status": "completed"
    },
    "tags": []
   },
   "outputs": [
    {
     "data": {
      "image/png": "[encoded data removed]",
      "text/plain": [
       "<Figure size 1000x500 with 2 Axes>"
      ]
     },
     "metadata": {},
     "output_type": "display_data"
    }
   ],
   "source": [
    "plt.figure(figsize=(10, 5))\n",
    "plt.subplot(1, 2, 1)\n",
    "regression_report.plot(x='Model', y='R-squared', kind='bar', ax=plt.gca())\n",
    "plt.title('Regression Model R-squared Comparison')\n",
    "plt.tight_layout()\n",
    "\n",
    "plt.subplot(1, 2, 2)\n",
    "classification_report_table.plot(x='Model', y='Accuracy', kind='bar', ax=plt.gca())\n",
    "plt.title('Classification Model Accuracy Comparison')\n",
    "plt.tight_layout()\n",
    "\n",
    "plt.show()"
   ]
  }
 ],
 "metadata": {
  "kaggle": {
   "accelerator": "none",
   "dataSources": [],
   "dockerImageVersionId": 30804,
   "isGpuEnabled": false,
   "isInternetEnabled": true,
   "language": "python",
   "sourceType": "notebook"
  },
  "kernelspec": {
   "display_name": "Python 3",
   "language": "python",
   "name": "python3"
  },
  "language_info": {
   "codemirror_mode": {
    "name": "ipython",
    "version": 3
   },
   "file_extension": ".py",
   "mimetype": "text/x-python",
   "name": "python",
   "nbconvert_exporter": "python",
   "pygments_lexer": "ipython3",
   "version": "3.10.14"
  },
  "papermill": {
   "default_parameters": {},
   "duration": 8.686987,
   "end_time": "2024-12-18T10:40:07.489520",
   "environment_variables": {},
   "exception": null,
   "input_path": "__notebook__.ipynb",
   "output_path": "__notebook__.ipynb",
   "parameters": {},
   "start_time": "2024-12-18T10:39:58.802533",
   "version": "2.6.0"
  }
 },
 "nbformat": 4,
 "nbformat_minor": 5
}
